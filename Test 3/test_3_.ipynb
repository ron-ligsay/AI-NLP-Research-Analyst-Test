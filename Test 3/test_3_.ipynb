{
 "cells": [
  {
   "cell_type": "code",
   "execution_count": null,
   "metadata": {},
   "outputs": [],
   "source": [
    "import nltk\n",
    "\n",
    "def combine_sentences(sentence1, sentence2):\n",
    "    tokens1 = nltk.word_tokenize(sentence1)\n",
    "    tokens2 = nltk.word_tokenize(sentence2)\n",
    "    tagged1 = nltk.pos_tag(tokens1)\n",
    "    tagged2 = nltk.pos_tag(tokens2)\n",
    "    entities1 = nltk.chunk.ne_chunk(tagged1)\n",
    "    entities2 = nltk.chunk.ne_chunk(tagged2)\n",
    "    subject1 = None\n",
    "    subject2 = None\n",
    "    verb1 = None\n",
    "    verb2 = None\n",
    "    object1 = None\n",
    "    object2 = None\n",
    "    for subtree in entities1.subtrees():\n",
    "        if subtree.label() == 'NP':\n",
    "            subject1 = ' '.join(word for word, pos in subtree.leaves())\n",
    "        elif subtree.label() == 'VP':\n",
    "            verb1 = ' '.join(word for word, pos in subtree.leaves())\n",
    "        elif subtree.label() == 'PP':\n",
    "            object1 = ' '.join(word for word, pos in subtree.leaves())\n",
    "    for subtree in entities2.subtrees():\n",
    "        if subtree.label() == 'NP':\n",
    "            subject2 = ' '.join(word for word, pos in subtree.leaves())\n",
    "        elif subtree.label() == 'VP':\n",
    "            verb2 = ' '.join(word for word, pos in subtree.leaves())\n",
    "        elif subtree.label() == 'PP':\n",
    "            object2 = ' '.join(word for word, pos in subtree.leaves())\n",
    "    if object1 is not None:\n",
    "        sentence = subject1 + ' ' + verb1 + ' ' + object1 + ' ' + verb2 + ' ' + ' '.join(tokens2[tokens2.index(object2) + 1:])\n",
    "    elif object2 is not None:\n",
    "        sentence = subject1 + ' ' + verb1 + ' ' + subject2 + ' ' + verb2 + ' ' + object2 + ' ' + ' '.join(tokens2[tokens2.index(object2) + 1:])\n",
    "    else:\n",
    "        sentence = subject1 + ' ' + verb1 + ' ' + subject2 + ' ' + verb2 + ' ' + ' '.join(tokens2[tokens2.index(verb2) + 1:])\n",
    "    return sentence\n"
   ]
  }
 ],
 "metadata": {
  "language_info": {
   "name": "python"
  },
  "orig_nbformat": 4
 },
 "nbformat": 4,
 "nbformat_minor": 2
}
