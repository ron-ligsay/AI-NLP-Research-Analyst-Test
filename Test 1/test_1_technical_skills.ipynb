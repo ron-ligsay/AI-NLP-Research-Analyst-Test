{
 "cells": [
  {
   "attachments": {},
   "cell_type": "markdown",
   "metadata": {},
   "source": [
    "## Test 1 **Technical Skills**"
   ]
  },
  {
   "cell_type": "code",
   "execution_count": 5,
   "metadata": {},
   "outputs": [],
   "source": [
    "# Sliding window technique\n",
    "def lengthOfLongestSubstring(s: str) -> int:\n",
    "    char_map = {}\n",
    "    i = 0\n",
    "    max_len = 0\n",
    "    \n",
    "    for j in range(len(s)):\n",
    "        if s[j] in char_map:\n",
    "            i = max(i, char_map[s[j]] + 1)\n",
    "            print(j, s[j], i, char_map[s[j]] + 1)   \n",
    "        \n",
    "        char_map[s[j]] = j\n",
    "        max_len = max(max_len, j - i + 1)\n",
    "        print(char_map)\n",
    "\n",
    "        # get the longest substring\n",
    "        longest_substring = s[i:j+1]\n",
    "    \n",
    "    print(char_map)\n",
    "    return max_len, longest_substring "
   ]
  },
  {
   "cell_type": "code",
   "execution_count": 6,
   "metadata": {},
   "outputs": [
    {
     "name": "stdout",
     "output_type": "stream",
     "text": [
      "{'a': 0}\n",
      "{'a': 0, 'b': 1}\n",
      "{'a': 0, 'b': 1, 'd': 2}\n",
      "{'a': 0, 'b': 1, 'd': 2, 'f': 3}\n",
      "4 d 3 3\n",
      "{'a': 0, 'b': 1, 'd': 4, 'f': 3}\n",
      "5 f 4 4\n",
      "{'a': 0, 'b': 1, 'd': 4, 'f': 5}\n",
      "{'a': 0, 'b': 1, 'd': 4, 'f': 5, 's': 6}\n",
      "7 d 5 5\n",
      "{'a': 0, 'b': 1, 'd': 7, 'f': 5, 's': 6}\n",
      "8 f 6 6\n",
      "{'a': 0, 'b': 1, 'd': 7, 'f': 8, 's': 6}\n",
      "{'a': 0, 'b': 1, 'd': 7, 'f': 8, 's': 6}\n"
     ]
    },
    {
     "data": {
      "text/plain": [
       "(4, 'sdf')"
      ]
     },
     "execution_count": 6,
     "metadata": {},
     "output_type": "execute_result"
    }
   ],
   "source": [
    "lengthOfLongestSubstring('abdfdfsdf')"
   ]
  },
  {
   "cell_type": "code",
   "execution_count": 6,
   "metadata": {},
   "outputs": [
    {
     "data": {
      "text/plain": [
       "(9, 'a string.')"
      ]
     },
     "execution_count": 6,
     "metadata": {},
     "output_type": "execute_result"
    }
   ],
   "source": [
    "lengthOfLongestSubstring(\"Hello My name is Aron and this is my first Test. This test finds the longest substring in a string.\")"
   ]
  },
  {
   "cell_type": "code",
   "execution_count": 8,
   "metadata": {},
   "outputs": [
    {
     "data": {
      "text/plain": [
       "(9, 'oting')"
      ]
     },
     "execution_count": 8,
     "metadata": {},
     "output_type": "execute_result"
    }
   ],
   "source": [
    "lengthOfLongestSubstring('troubleshooting')"
   ]
  },
  {
   "cell_type": "code",
   "execution_count": 9,
   "metadata": {},
   "outputs": [
    {
     "data": {
      "text/plain": [
       "(8, 'cation')"
      ]
     },
     "execution_count": 9,
     "metadata": {},
     "output_type": "execute_result"
    }
   ],
   "source": [
    "lengthOfLongestSubstring('personification')"
   ]
  },
  {
   "cell_type": "code",
   "execution_count": 10,
   "metadata": {},
   "outputs": [
    {
     "data": {
      "text/plain": [
       "(9, 'ing')"
      ]
     },
     "execution_count": 10,
     "metadata": {},
     "output_type": "execute_result"
    }
   ],
   "source": [
    "lengthOfLongestSubstring('machine learning')"
   ]
  },
  {
   "cell_type": "code",
   "execution_count": null,
   "metadata": {},
   "outputs": [],
   "source": []
  }
 ],
 "metadata": {
  "kernelspec": {
   "display_name": "Python 3",
   "language": "python",
   "name": "python3"
  },
  "language_info": {
   "codemirror_mode": {
    "name": "ipython",
    "version": 3
   },
   "file_extension": ".py",
   "mimetype": "text/x-python",
   "name": "python",
   "nbconvert_exporter": "python",
   "pygments_lexer": "ipython3",
   "version": "3.8.5"
  },
  "orig_nbformat": 4
 },
 "nbformat": 4,
 "nbformat_minor": 2
}
