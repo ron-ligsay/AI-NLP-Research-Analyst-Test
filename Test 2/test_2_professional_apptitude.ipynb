{
 "cells": [
  {
   "attachments": {},
   "cell_type": "markdown",
   "metadata": {},
   "source": [
    "## Test 2 **Professional Aptitude**"
   ]
  },
  {
   "cell_type": "code",
   "execution_count": 2,
   "metadata": {},
   "outputs": [],
   "source": [
    "import nltk\n",
    "from operator import itemgetter\n",
    "\n",
    "def information_density(text):\n",
    "    sentences = nltk.sent_tokenize(text)\n",
    "    tokenized_sentences = [nltk.word_tokenize(sentence) for sentence in sentences]\n",
    "    tagged_sentences = [nltk.pos_tag(sentence) for sentence in tokenized_sentences]\n",
    "    chunked_sentences = nltk.ne_chunk_sents(tagged_sentences, binary=True)\n",
    "    information_scores = []\n",
    "    for i, tree in enumerate(chunked_sentences):\n",
    "        information_density = sum(len(subtree.leaves()) / len(tokenized_sentences[i]) for subtree in tree.subtrees() if subtree.label() == 'NE') # Calculate information density\n",
    "        information_scores.append((i, information_density))\n",
    "    sorted_scores = sorted(information_scores, key=itemgetter(1), reverse=True) # Sort scores in descending order\n",
    "    sorted_sentences = [sentences[i] for i, _ in sorted_scores] # Reorder sentences based on sorted scores\n",
    "    return sorted_sentences\n"
   ]
  },
  {
   "cell_type": "code",
   "execution_count": 3,
   "metadata": {},
   "outputs": [
    {
     "data": {
      "text/plain": [
       "['NLP is an interdisciplinary field that draws on expertise from linguistics, psychology, mathematics, and computer science.',\n",
       " 'Natural language processing (NLP) is a field of computer science, artificial intelligence, and computational linguistics concerned with the interactions between computers and human languages.',\n",
       " 'It involves developing algorithms and models that enable computers to understand and generate natural language, as well as perform tasks such as text translation, sentiment analysis, and speech recognition.']"
      ]
     },
     "execution_count": 3,
     "metadata": {},
     "output_type": "execute_result"
    }
   ],
   "source": [
    "# sample text\n",
    "information_density(\"Natural language processing (NLP) is a field of computer science, artificial intelligence, and computational linguistics concerned with the interactions between computers and human languages.  It involves developing algorithms and models that enable computers to understand and generate natural language, as well as perform tasks such as text translation, sentiment analysis, and speech recognition. NLP is an interdisciplinary field that draws on expertise from linguistics, psychology, mathematics, and computer science.\")"
   ]
  },
  {
   "cell_type": "code",
   "execution_count": null,
   "metadata": {},
   "outputs": [],
   "source": []
  }
 ],
 "metadata": {
  "kernelspec": {
   "display_name": "Python 3",
   "language": "python",
   "name": "python3"
  },
  "language_info": {
   "codemirror_mode": {
    "name": "ipython",
    "version": 3
   },
   "file_extension": ".py",
   "mimetype": "text/x-python",
   "name": "python",
   "nbconvert_exporter": "python",
   "pygments_lexer": "ipython3",
   "version": "3.8.5"
  },
  "orig_nbformat": 4
 },
 "nbformat": 4,
 "nbformat_minor": 2
}
